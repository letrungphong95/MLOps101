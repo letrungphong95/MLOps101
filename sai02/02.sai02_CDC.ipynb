{
 "cells": [
  {
   "cell_type": "markdown",
   "id": "0d9873b5",
   "metadata": {},
   "source": [
    "# 02.SAI02: 𝗖𝗗𝗖 (𝗖𝗵𝗮𝗻𝗴𝗲 𝗗𝗮𝘁𝗮 𝗖𝗮𝗽𝘁𝘂𝗿𝗲). (Note: Demo folder is under `/sai02/CDC`)\n",
    "\n",
    "Scenario: Assume we will change data from the source Database (**MySQL Database**), and have a service (**Debezium**) for listening the changes and push messages to the stream (**Kafka**) for other service to get the change result."
   ]
  },
  {
   "cell_type": "markdown",
   "id": "84374457",
   "metadata": {},
   "source": [
    "+ **Step1: Start these services below for demo the CDC**\n",
    "\n",
    "    + *MySQL Database*: The source Database which will be changed or updated \n",
    "        - Host: localhost\n",
    "        - Port: 3306\n",
    "        - Database: inventory \n",
    "        - User: debezium\n",
    "        - Password: dbz\n",
    "    + *Debezium service*: It will listen and capture the changes from the source Database and push message to stream \n",
    "        - Url: http://localhost:8083/connectors\n",
    "    + *Kafka stream*: The kafka topic will receive message from Debezium for updating from source Database. We could get the message from this service to update anywhere we want \n",
    "        - Url: http://localhost:9092\n",
    "    + *Kafdrop*: WebUI View for Kafka topics \n",
    "        - Url: http://localhost:9007\n",
    "\n",
    "\n",
    "```bash\n",
    "# Start all services in the docker container using only one command below in /sai02/CDC folder:\n",
    "$ docker-compose up\n",
    "```"
   ]
  },
  {
   "cell_type": "markdown",
   "id": "453f40b7",
   "metadata": {},
   "source": [
    "+ **Step2: Register the Kafka topic in Debezium for catching event**\n",
    "\n",
    "Send this APIs to register the kafka topic to catching change event from MySQL database\n",
    "\n",
    "```bash\n",
    "# List all connectors:\n",
    "$ curl --request GET 'http://localhost:8083/connectors'\n",
    "\n",
    "# Register new connectors: \n",
    "$ curl -i -X POST -H \"Accept:application/json\" -H  \"Content-Type:application/json\" http://localhost:8083/connectors/ -d @register.json\n",
    "\n",
    "# List all connectors:\n",
    "$ curl --request GET 'http://localhost:8083/connectors'\n",
    "# Return [\"demo-connector\"]\n",
    "```\n",
    "\n",
    "And run the kafka listener script to listen the change event too \n",
    "\n",
    "```bash\n",
    "# Under the `/sai02/CDC` folder run \n",
    "$(venv) python kafka_consumer.py \n",
    "```\n",
    "+ **Register new connector**\n",
    "\n",
    "![Register new connector](../public/sai02/image.png)"
   ]
  },
  {
   "cell_type": "markdown",
   "id": "9a037204",
   "metadata": {},
   "source": [
    "+ **Access to `mysql1.inventory.customers topic` in Kafdrop to see first messages in connector topic**\n",
    "\n",
    "![Step2](../public/sai02/image01.png)"
   ]
  },
  {
   "cell_type": "markdown",
   "id": "72513625",
   "metadata": {},
   "source": [
    "+ **Access to `inventory` MySQL Database to see the init data**\n",
    "\n",
    "![Step2](../public/sai02/image011.png)"
   ]
  },
  {
   "cell_type": "markdown",
   "id": "e38168e0",
   "metadata": {},
   "source": [
    "+ **Step3: Update data in `inventory` database and see the catching event**\n",
    "\n",
    "**Change any data in `inventory` database, for example I changed from `John` to `Lee`**\n",
    "\n",
    "![Register new connector](../public/sai02/image02.png)"
   ]
  },
  {
   "cell_type": "markdown",
   "id": "de8c7c19",
   "metadata": {},
   "source": [
    "+ **Step4: View the notification event for changing data from kafka topic**\n",
    "\n",
    "**Viewing in Kafka topics, there is new message**\n",
    "\n",
    "![Register new connector](../public/sai02/image04.png)\n",
    "\n",
    "**Viewing in consumer, there is new message**\n",
    "\n",
    "![Register new connector](../public/sai02/image03.png)"
   ]
  },
  {
   "cell_type": "code",
   "execution_count": null,
   "id": "e920e7b9",
   "metadata": {},
   "outputs": [],
   "source": []
  }
 ],
 "metadata": {
  "kernelspec": {
   "display_name": "Python 3 (ipykernel)",
   "language": "python",
   "name": "python3"
  },
  "language_info": {
   "codemirror_mode": {
    "name": "ipython",
    "version": 3
   },
   "file_extension": ".py",
   "mimetype": "text/x-python",
   "name": "python",
   "nbconvert_exporter": "python",
   "pygments_lexer": "ipython3",
   "version": "3.9.12"
  }
 },
 "nbformat": 4,
 "nbformat_minor": 5
}
