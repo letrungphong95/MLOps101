{
 "cells": [
  {
   "cell_type": "markdown",
   "id": "7fd9438e",
   "metadata": {},
   "source": [
    "# 01.SAI02: 𝗦𝗽𝗹𝗶𝘁𝘁𝗮𝗯𝗹𝗲 𝘃𝘀. 𝗡𝗼𝗻-𝗦𝗽𝗹𝗶𝘁𝘁𝗮𝗯𝗹𝗲 𝗙𝗶𝗹𝗲𝘀\n",
    "\n",
    "I have some examples about using python library for reading, writing file in some different formats (Avro, ORC, Parquet) [here](https://github.com/letrungphong95/MLOps101/tree/feat/sai02/sai01). \n",
    "\n",
    "It's not too hard for using Python library to do that, so you could check some library document below, if there is any stuck or issue, please leave a comment or issue, I will help you to resovle them. "
   ]
  },
  {
   "cell_type": "markdown",
   "id": "72048dcc",
   "metadata": {},
   "source": [
    "### 1. 𝗦𝗽𝗹𝗶𝘁𝘁𝗮𝗯𝗹𝗲 𝗳𝗶𝗹𝗲 𝗳𝗼𝗿𝗺𝗮𝘁𝘀:\n",
    "\n",
    "You could check the python examples for writting or reading these files in some links below: \n",
    "+ 𝗔𝘃𝗿𝗼: https://avro.apache.org/docs/1.11.1/getting-started-python/ \n",
    "+ 𝗖𝗦𝗩: https://docs.python.org/3/library/csv.html\n",
    "+ 𝗢𝗥𝗖: https://arrow.apache.org/docs/python/orc.html \n",
    "+ 𝗻𝗱𝗝𝗦𝗢𝗡: https://pypi.org/project/ndjson/ \n",
    "+ 𝗣𝗮𝗿𝗾𝘂𝗲𝘁: https://arrow.apache.org/docs/python/parquet.html "
   ]
  },
  {
   "cell_type": "markdown",
   "id": "2ce56b16",
   "metadata": {},
   "source": [
    "### 2. 𝗡𝗼𝗻-𝗦𝗽𝗹𝗶𝘁𝘁𝗮𝗯𝗹𝗲 𝗳𝗶𝗹𝗲 𝗳𝗼𝗿𝗺𝗮𝘁𝘀:\n",
    "\n",
    "+ 𝗣𝗿𝗼𝘁𝗼𝗰𝗼𝗹 𝗕𝘂𝗳𝗳𝗲𝗿𝘀: https://protobuf.dev/getting-started/pythontutorial/ \n",
    "+ 𝗝𝗦𝗢𝗡: https://www.geeksforgeeks.org/reading-and-writing-json-to-a-file-in-python/ \n",
    "+ 𝗫𝗠𝗟: https://www.geeksforgeeks.org/reading-and-writing-xml-files-in-python/"
   ]
  },
  {
   "cell_type": "code",
   "execution_count": null,
   "id": "4784abe2",
   "metadata": {},
   "outputs": [],
   "source": []
  },
  {
   "cell_type": "code",
   "execution_count": null,
   "id": "815b6a02",
   "metadata": {},
   "outputs": [],
   "source": []
  },
  {
   "cell_type": "code",
   "execution_count": null,
   "id": "8132344f",
   "metadata": {},
   "outputs": [],
   "source": []
  },
  {
   "cell_type": "code",
   "execution_count": null,
   "id": "cb36b39b",
   "metadata": {},
   "outputs": [],
   "source": []
  }
 ],
 "metadata": {
  "kernelspec": {
   "display_name": "Python 3 (ipykernel)",
   "language": "python",
   "name": "python3"
  },
  "language_info": {
   "codemirror_mode": {
    "name": "ipython",
    "version": 3
   },
   "file_extension": ".py",
   "mimetype": "text/x-python",
   "name": "python",
   "nbconvert_exporter": "python",
   "pygments_lexer": "ipython3",
   "version": "3.9.12"
  }
 },
 "nbformat": 4,
 "nbformat_minor": 5
}
