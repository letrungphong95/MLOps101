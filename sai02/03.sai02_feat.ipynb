{
 "cells": [
  {
   "cell_type": "markdown",
   "id": "247a2c58",
   "metadata": {},
   "source": [
    "# 03.SAI02: 𝗙𝗲𝗮𝘁𝘂𝗿𝗲 𝗦𝘁𝗼𝗿𝗲. (Note: Demo folder is under `/sai02/feature_repo`)\n",
    "\n",
    "**Problem**: Suppose we have a machine learning model that predicts the ranking of driver using the driver status dataset. We need to train and serve this model in production, but first, we need to extract and transform the relevant features.\n",
    "\n",
    "With a feature store, we can store and manage these features in a centralized location. Feast provides an API to interact with this feature store and integrates with different data sources to ingest data into the store.\n",
    "\n",
    "Here's an example of how we could set up a feature store system for this churn prediction model:\n",
    "\n",
    "Ref: \n",
    "\n",
    "https://docs.feast.dev/<br>\n",
    "https://github.com/feast-dev/feast-gcp-driver-ranking-tutorial"
   ]
  },
  {
   "cell_type": "markdown",
   "id": "ac12be88",
   "metadata": {},
   "source": [
    "## Inspect Data"
   ]
  },
  {
   "cell_type": "code",
   "execution_count": 1,
   "id": "5245f52c",
   "metadata": {},
   "outputs": [
    {
     "data": {
      "text/html": [
       "<div>\n",
       "<style scoped>\n",
       "    .dataframe tbody tr th:only-of-type {\n",
       "        vertical-align: middle;\n",
       "    }\n",
       "\n",
       "    .dataframe tbody tr th {\n",
       "        vertical-align: top;\n",
       "    }\n",
       "\n",
       "    .dataframe thead th {\n",
       "        text-align: right;\n",
       "    }\n",
       "</style>\n",
       "<table border=\"1\" class=\"dataframe\">\n",
       "  <thead>\n",
       "    <tr style=\"text-align: right;\">\n",
       "      <th></th>\n",
       "      <th>event_timestamp</th>\n",
       "      <th>driver_id</th>\n",
       "      <th>conv_rate</th>\n",
       "      <th>acc_rate</th>\n",
       "      <th>avg_daily_trips</th>\n",
       "      <th>created</th>\n",
       "    </tr>\n",
       "  </thead>\n",
       "  <tbody>\n",
       "    <tr>\n",
       "      <th>0</th>\n",
       "      <td>2023-04-14 01:45:08.683604+00:00</td>\n",
       "      <td>1001</td>\n",
       "      <td>1.000000</td>\n",
       "      <td>1.000000</td>\n",
       "      <td>1000</td>\n",
       "      <td>2023-04-14 01:45:08.683610</td>\n",
       "    </tr>\n",
       "    <tr>\n",
       "      <th>1</th>\n",
       "      <td>2023-04-13 20:37:11.840487+00:00</td>\n",
       "      <td>1001</td>\n",
       "      <td>1.000000</td>\n",
       "      <td>1.000000</td>\n",
       "      <td>1000</td>\n",
       "      <td>2023-04-13 20:37:11.840498</td>\n",
       "    </tr>\n",
       "    <tr>\n",
       "      <th>2</th>\n",
       "      <td>2023-03-29 00:00:00+00:00</td>\n",
       "      <td>1005</td>\n",
       "      <td>0.165560</td>\n",
       "      <td>0.670792</td>\n",
       "      <td>506</td>\n",
       "      <td>2023-04-13 00:53:40.636000</td>\n",
       "    </tr>\n",
       "    <tr>\n",
       "      <th>3</th>\n",
       "      <td>2023-03-29 01:00:00+00:00</td>\n",
       "      <td>1005</td>\n",
       "      <td>0.306372</td>\n",
       "      <td>0.517036</td>\n",
       "      <td>844</td>\n",
       "      <td>2023-04-13 00:53:40.636000</td>\n",
       "    </tr>\n",
       "    <tr>\n",
       "      <th>4</th>\n",
       "      <td>2023-03-29 02:00:00+00:00</td>\n",
       "      <td>1005</td>\n",
       "      <td>0.852396</td>\n",
       "      <td>0.342542</td>\n",
       "      <td>568</td>\n",
       "      <td>2023-04-13 00:53:40.636000</td>\n",
       "    </tr>\n",
       "    <tr>\n",
       "      <th>...</th>\n",
       "      <td>...</td>\n",
       "      <td>...</td>\n",
       "      <td>...</td>\n",
       "      <td>...</td>\n",
       "      <td>...</td>\n",
       "      <td>...</td>\n",
       "    </tr>\n",
       "    <tr>\n",
       "      <th>1804</th>\n",
       "      <td>2023-04-12 22:00:00+00:00</td>\n",
       "      <td>1001</td>\n",
       "      <td>0.834586</td>\n",
       "      <td>0.225937</td>\n",
       "      <td>788</td>\n",
       "      <td>2023-04-13 00:53:40.636000</td>\n",
       "    </tr>\n",
       "    <tr>\n",
       "      <th>1805</th>\n",
       "      <td>2023-04-12 23:00:00+00:00</td>\n",
       "      <td>1001</td>\n",
       "      <td>0.498457</td>\n",
       "      <td>0.872914</td>\n",
       "      <td>933</td>\n",
       "      <td>2023-04-13 00:53:40.636000</td>\n",
       "    </tr>\n",
       "    <tr>\n",
       "      <th>1806</th>\n",
       "      <td>2021-04-12 07:00:00+00:00</td>\n",
       "      <td>1001</td>\n",
       "      <td>0.848513</td>\n",
       "      <td>0.993941</td>\n",
       "      <td>484</td>\n",
       "      <td>2023-04-13 00:53:40.636000</td>\n",
       "    </tr>\n",
       "    <tr>\n",
       "      <th>1807</th>\n",
       "      <td>2023-04-05 12:00:00+00:00</td>\n",
       "      <td>1003</td>\n",
       "      <td>0.542288</td>\n",
       "      <td>0.344721</td>\n",
       "      <td>346</td>\n",
       "      <td>2023-04-13 00:53:40.636000</td>\n",
       "    </tr>\n",
       "    <tr>\n",
       "      <th>1808</th>\n",
       "      <td>2023-04-05 12:00:00+00:00</td>\n",
       "      <td>1003</td>\n",
       "      <td>0.542288</td>\n",
       "      <td>0.344721</td>\n",
       "      <td>346</td>\n",
       "      <td>2023-04-13 00:53:40.636000</td>\n",
       "    </tr>\n",
       "  </tbody>\n",
       "</table>\n",
       "<p>1809 rows × 6 columns</p>\n",
       "</div>"
      ],
      "text/plain": [
       "                      event_timestamp  driver_id  conv_rate  acc_rate  \\\n",
       "0    2023-04-14 01:45:08.683604+00:00       1001   1.000000  1.000000   \n",
       "1    2023-04-13 20:37:11.840487+00:00       1001   1.000000  1.000000   \n",
       "2           2023-03-29 00:00:00+00:00       1005   0.165560  0.670792   \n",
       "3           2023-03-29 01:00:00+00:00       1005   0.306372  0.517036   \n",
       "4           2023-03-29 02:00:00+00:00       1005   0.852396  0.342542   \n",
       "...                               ...        ...        ...       ...   \n",
       "1804        2023-04-12 22:00:00+00:00       1001   0.834586  0.225937   \n",
       "1805        2023-04-12 23:00:00+00:00       1001   0.498457  0.872914   \n",
       "1806        2021-04-12 07:00:00+00:00       1001   0.848513  0.993941   \n",
       "1807        2023-04-05 12:00:00+00:00       1003   0.542288  0.344721   \n",
       "1808        2023-04-05 12:00:00+00:00       1003   0.542288  0.344721   \n",
       "\n",
       "      avg_daily_trips                    created  \n",
       "0                1000 2023-04-14 01:45:08.683610  \n",
       "1                1000 2023-04-13 20:37:11.840498  \n",
       "2                 506 2023-04-13 00:53:40.636000  \n",
       "3                 844 2023-04-13 00:53:40.636000  \n",
       "4                 568 2023-04-13 00:53:40.636000  \n",
       "...               ...                        ...  \n",
       "1804              788 2023-04-13 00:53:40.636000  \n",
       "1805              933 2023-04-13 00:53:40.636000  \n",
       "1806              484 2023-04-13 00:53:40.636000  \n",
       "1807              346 2023-04-13 00:53:40.636000  \n",
       "1808              346 2023-04-13 00:53:40.636000  \n",
       "\n",
       "[1809 rows x 6 columns]"
      ]
     },
     "execution_count": 1,
     "metadata": {},
     "output_type": "execute_result"
    }
   ],
   "source": [
    "import pandas as pd\n",
    "df = pd.read_parquet(\"feature_repo/data/driver_stats.parquet\")\n",
    "df"
   ]
  },
  {
   "cell_type": "code",
   "execution_count": 2,
   "id": "6d3a5e87",
   "metadata": {},
   "outputs": [
    {
     "name": "stdout",
     "output_type": "stream",
     "text": [
      "<class 'pandas.core.frame.DataFrame'>\n",
      "RangeIndex: 1809 entries, 0 to 1808\n",
      "Data columns (total 6 columns):\n",
      " #   Column           Non-Null Count  Dtype              \n",
      "---  ------           --------------  -----              \n",
      " 0   event_timestamp  1809 non-null   datetime64[ns, UTC]\n",
      " 1   driver_id        1809 non-null   int64              \n",
      " 2   conv_rate        1809 non-null   float32            \n",
      " 3   acc_rate         1809 non-null   float32            \n",
      " 4   avg_daily_trips  1809 non-null   int32              \n",
      " 5   created          1809 non-null   datetime64[ns]     \n",
      "dtypes: datetime64[ns, UTC](1), datetime64[ns](1), float32(2), int32(1), int64(1)\n",
      "memory usage: 63.7 KB\n"
     ]
    }
   ],
   "source": [
    "df.info()"
   ]
  },
  {
   "cell_type": "markdown",
   "id": "0a95fbb7",
   "metadata": {},
   "source": [
    "## Step1: Apply feast \n",
    "\n",
    "We define a schema for the features that we want to extract and store in the feature store. For example, we might want to include features such as a customer's age, gender, transaction history, and purchase frequency.\n",
    "\n",
    "Under the `/sai02/feature_repo` folder, run the command below"
   ]
  },
  {
   "cell_type": "code",
   "execution_count": 3,
   "id": "7ce1e956",
   "metadata": {},
   "outputs": [],
   "source": [
    "from datetime import datetime\n",
    "from feast import FeatureStore\n",
    "from feast.data_source import PushMode\n",
    "from joblib import dump\n",
    "from sklearn.linear_model import LinearRegression\n",
    "from joblib import load\n",
    "import pandas as pd"
   ]
  },
  {
   "cell_type": "markdown",
   "id": "02eedfc4",
   "metadata": {},
   "source": [
    "Run the command below: \n",
    "\n",
    "```bash\n",
    "(venv)$ feast apply\n",
    "```\n",
    "\n",
    "Throw message \n",
    "\n",
    "```\n",
    "Created entity driver\n",
    "Created feature view driver_hourly_stats\n",
    "Created feature view driver_hourly_stats_fresh\n",
    "Created on demand feature view transformed_conv_rate_fresh\n",
    "Created on demand feature view transformed_conv_rate\n",
    "Created feature service driver_activity_v1\n",
    "Created feature service driver_activity_v2\n",
    "Created feature service driver_activity_v3\n",
    "\n",
    "Created sqlite table feast_demo_driver_hourly_stats_fresh\n",
    "Created sqlite table feast_demo_driver_hourly_stats\n",
    "```"
   ]
  },
  {
   "cell_type": "code",
   "execution_count": 4,
   "id": "c1a0cfa1",
   "metadata": {},
   "outputs": [],
   "source": [
    "store = FeatureStore(repo_path=\"feature_repo/\")"
   ]
  },
  {
   "cell_type": "markdown",
   "id": "e00daf5a",
   "metadata": {},
   "source": [
    "## Step2: Get historical features for training from Offfline Store"
   ]
  },
  {
   "cell_type": "code",
   "execution_count": 5,
   "id": "2565f77a",
   "metadata": {},
   "outputs": [
    {
     "data": {
      "text/html": [
       "<div>\n",
       "<style scoped>\n",
       "    .dataframe tbody tr th:only-of-type {\n",
       "        vertical-align: middle;\n",
       "    }\n",
       "\n",
       "    .dataframe tbody tr th {\n",
       "        vertical-align: top;\n",
       "    }\n",
       "\n",
       "    .dataframe thead th {\n",
       "        text-align: right;\n",
       "    }\n",
       "</style>\n",
       "<table border=\"1\" class=\"dataframe\">\n",
       "  <thead>\n",
       "    <tr style=\"text-align: right;\">\n",
       "      <th></th>\n",
       "      <th>driver_id</th>\n",
       "      <th>event_timestamp</th>\n",
       "      <th>label_driver_reported_satisfaction</th>\n",
       "      <th>val_to_add</th>\n",
       "      <th>val_to_add_2</th>\n",
       "      <th>conv_rate</th>\n",
       "      <th>acc_rate</th>\n",
       "      <th>avg_daily_trips</th>\n",
       "      <th>conv_rate_plus_val1</th>\n",
       "      <th>conv_rate_plus_val2</th>\n",
       "    </tr>\n",
       "  </thead>\n",
       "  <tbody>\n",
       "    <tr>\n",
       "      <th>0</th>\n",
       "      <td>1001</td>\n",
       "      <td>2021-04-12 10:59:42+00:00</td>\n",
       "      <td>1</td>\n",
       "      <td>1</td>\n",
       "      <td>10</td>\n",
       "      <td>0.848513</td>\n",
       "      <td>0.993941</td>\n",
       "      <td>484</td>\n",
       "      <td>1.848513</td>\n",
       "      <td>10.848513</td>\n",
       "    </tr>\n",
       "    <tr>\n",
       "      <th>1</th>\n",
       "      <td>1002</td>\n",
       "      <td>2021-04-12 08:12:10+00:00</td>\n",
       "      <td>5</td>\n",
       "      <td>2</td>\n",
       "      <td>20</td>\n",
       "      <td>0.286453</td>\n",
       "      <td>0.845122</td>\n",
       "      <td>627</td>\n",
       "      <td>2.286453</td>\n",
       "      <td>20.286453</td>\n",
       "    </tr>\n",
       "    <tr>\n",
       "      <th>2</th>\n",
       "      <td>1003</td>\n",
       "      <td>2021-04-12 16:40:26+00:00</td>\n",
       "      <td>3</td>\n",
       "      <td>3</td>\n",
       "      <td>30</td>\n",
       "      <td>0.750681</td>\n",
       "      <td>0.794102</td>\n",
       "      <td>449</td>\n",
       "      <td>3.750681</td>\n",
       "      <td>30.750681</td>\n",
       "    </tr>\n",
       "  </tbody>\n",
       "</table>\n",
       "</div>"
      ],
      "text/plain": [
       "   driver_id           event_timestamp  label_driver_reported_satisfaction  \\\n",
       "0       1001 2021-04-12 10:59:42+00:00                                   1   \n",
       "1       1002 2021-04-12 08:12:10+00:00                                   5   \n",
       "2       1003 2021-04-12 16:40:26+00:00                                   3   \n",
       "\n",
       "   val_to_add  val_to_add_2  conv_rate  acc_rate  avg_daily_trips  \\\n",
       "0           1            10   0.848513  0.993941              484   \n",
       "1           2            20   0.286453  0.845122              627   \n",
       "2           3            30   0.750681  0.794102              449   \n",
       "\n",
       "   conv_rate_plus_val1  conv_rate_plus_val2  \n",
       "0             1.848513            10.848513  \n",
       "1             2.286453            20.286453  \n",
       "2             3.750681            30.750681  "
      ]
     },
     "execution_count": 5,
     "metadata": {},
     "output_type": "execute_result"
    }
   ],
   "source": [
    "# Note: see https://docs.feast.dev/getting-started/concepts/feature-retrieval for more details on how to retrieve\n",
    "# for all entities in the offline store instead\n",
    "entity_df = pd.DataFrame.from_dict(\n",
    "    {\n",
    "        # entity's join key -> entity values\n",
    "        \"driver_id\": [1001, 1002, 1003],\n",
    "        # \"event_timestamp\" (reserved key) -> timestamps\n",
    "        \"event_timestamp\": [\n",
    "            datetime(2021, 4, 12, 10, 59, 42),\n",
    "            datetime(2021, 4, 12, 8, 12, 10),\n",
    "            datetime(2021, 4, 12, 16, 40, 26),\n",
    "        ],\n",
    "        # (optional) label name -> label values. Feast does not process these\n",
    "        \"label_driver_reported_satisfaction\": [1, 5, 3],\n",
    "        # values we're using for an on-demand transformation\n",
    "        \"val_to_add\": [1, 2, 3],\n",
    "        \"val_to_add_2\": [10, 20, 30],\n",
    "    }\n",
    ")\n",
    "\n",
    "training_df = store.get_historical_features(\n",
    "    entity_df=entity_df,\n",
    "    features=[\n",
    "        \"driver_hourly_stats:conv_rate\",\n",
    "        \"driver_hourly_stats:acc_rate\",\n",
    "        \"driver_hourly_stats:avg_daily_trips\",\n",
    "        \"transformed_conv_rate:conv_rate_plus_val1\",\n",
    "        \"transformed_conv_rate:conv_rate_plus_val2\",\n",
    "    ],\n",
    ").to_df()\n",
    "training_df"
   ]
  },
  {
   "cell_type": "code",
   "execution_count": 6,
   "id": "673a818d",
   "metadata": {},
   "outputs": [
    {
     "data": {
      "text/html": [
       "<div>\n",
       "<style scoped>\n",
       "    .dataframe tbody tr th:only-of-type {\n",
       "        vertical-align: middle;\n",
       "    }\n",
       "\n",
       "    .dataframe tbody tr th {\n",
       "        vertical-align: top;\n",
       "    }\n",
       "\n",
       "    .dataframe thead th {\n",
       "        text-align: right;\n",
       "    }\n",
       "</style>\n",
       "<table border=\"1\" class=\"dataframe\">\n",
       "  <thead>\n",
       "    <tr style=\"text-align: right;\">\n",
       "      <th></th>\n",
       "      <th>event_timestamp</th>\n",
       "      <th>driver_id</th>\n",
       "      <th>conv_rate</th>\n",
       "      <th>acc_rate</th>\n",
       "      <th>avg_daily_trips</th>\n",
       "      <th>created</th>\n",
       "    </tr>\n",
       "  </thead>\n",
       "  <tbody>\n",
       "    <tr>\n",
       "      <th>1806</th>\n",
       "      <td>2021-04-12 07:00:00+00:00</td>\n",
       "      <td>1001</td>\n",
       "      <td>0.848513</td>\n",
       "      <td>0.993941</td>\n",
       "      <td>484</td>\n",
       "      <td>2023-04-13 00:53:40.636</td>\n",
       "    </tr>\n",
       "  </tbody>\n",
       "</table>\n",
       "</div>"
      ],
      "text/plain": [
       "               event_timestamp  driver_id  conv_rate  acc_rate  \\\n",
       "1806 2021-04-12 07:00:00+00:00       1001   0.848513  0.993941   \n",
       "\n",
       "      avg_daily_trips                 created  \n",
       "1806              484 2023-04-13 00:53:40.636  "
      ]
     },
     "execution_count": 6,
     "metadata": {},
     "output_type": "execute_result"
    }
   ],
   "source": [
    "df[df[\"avg_daily_trips\"] == 484]"
   ]
  },
  {
   "cell_type": "code",
   "execution_count": 7,
   "id": "b2612590",
   "metadata": {},
   "outputs": [
    {
     "data": {
      "text/html": [
       "<div>\n",
       "<style scoped>\n",
       "    .dataframe tbody tr th:only-of-type {\n",
       "        vertical-align: middle;\n",
       "    }\n",
       "\n",
       "    .dataframe tbody tr th {\n",
       "        vertical-align: top;\n",
       "    }\n",
       "\n",
       "    .dataframe thead th {\n",
       "        text-align: right;\n",
       "    }\n",
       "</style>\n",
       "<table border=\"1\" class=\"dataframe\">\n",
       "  <thead>\n",
       "    <tr style=\"text-align: right;\">\n",
       "      <th></th>\n",
       "      <th>event_timestamp</th>\n",
       "      <th>driver_id</th>\n",
       "      <th>conv_rate</th>\n",
       "      <th>acc_rate</th>\n",
       "      <th>avg_daily_trips</th>\n",
       "      <th>created</th>\n",
       "    </tr>\n",
       "  </thead>\n",
       "  <tbody>\n",
       "    <tr>\n",
       "      <th>303</th>\n",
       "      <td>2023-04-10 13:00:00+00:00</td>\n",
       "      <td>1005</td>\n",
       "      <td>0.143540</td>\n",
       "      <td>0.084671</td>\n",
       "      <td>627</td>\n",
       "      <td>2023-04-13 00:53:40.636</td>\n",
       "    </tr>\n",
       "    <tr>\n",
       "      <th>1382</th>\n",
       "      <td>2023-04-10 09:00:00+00:00</td>\n",
       "      <td>1002</td>\n",
       "      <td>0.371930</td>\n",
       "      <td>0.272448</td>\n",
       "      <td>627</td>\n",
       "      <td>2023-04-13 00:53:40.636</td>\n",
       "    </tr>\n",
       "    <tr>\n",
       "      <th>1445</th>\n",
       "      <td>2021-04-12 07:00:00+00:00</td>\n",
       "      <td>1002</td>\n",
       "      <td>0.286453</td>\n",
       "      <td>0.845122</td>\n",
       "      <td>627</td>\n",
       "      <td>2023-04-13 00:53:40.636</td>\n",
       "    </tr>\n",
       "  </tbody>\n",
       "</table>\n",
       "</div>"
      ],
      "text/plain": [
       "               event_timestamp  driver_id  conv_rate  acc_rate  \\\n",
       "303  2023-04-10 13:00:00+00:00       1005   0.143540  0.084671   \n",
       "1382 2023-04-10 09:00:00+00:00       1002   0.371930  0.272448   \n",
       "1445 2021-04-12 07:00:00+00:00       1002   0.286453  0.845122   \n",
       "\n",
       "      avg_daily_trips                 created  \n",
       "303               627 2023-04-13 00:53:40.636  \n",
       "1382              627 2023-04-13 00:53:40.636  \n",
       "1445              627 2023-04-13 00:53:40.636  "
      ]
     },
     "execution_count": 7,
     "metadata": {},
     "output_type": "execute_result"
    }
   ],
   "source": [
    "df[df[\"avg_daily_trips\"] == 627]"
   ]
  },
  {
   "cell_type": "code",
   "execution_count": 8,
   "id": "457c09f1",
   "metadata": {},
   "outputs": [
    {
     "data": {
      "text/html": [
       "<div>\n",
       "<style scoped>\n",
       "    .dataframe tbody tr th:only-of-type {\n",
       "        vertical-align: middle;\n",
       "    }\n",
       "\n",
       "    .dataframe tbody tr th {\n",
       "        vertical-align: top;\n",
       "    }\n",
       "\n",
       "    .dataframe thead th {\n",
       "        text-align: right;\n",
       "    }\n",
       "</style>\n",
       "<table border=\"1\" class=\"dataframe\">\n",
       "  <thead>\n",
       "    <tr style=\"text-align: right;\">\n",
       "      <th></th>\n",
       "      <th>event_timestamp</th>\n",
       "      <th>driver_id</th>\n",
       "      <th>conv_rate</th>\n",
       "      <th>acc_rate</th>\n",
       "      <th>avg_daily_trips</th>\n",
       "      <th>created</th>\n",
       "    </tr>\n",
       "  </thead>\n",
       "  <tbody>\n",
       "    <tr>\n",
       "      <th>85</th>\n",
       "      <td>2023-04-01 11:00:00+00:00</td>\n",
       "      <td>1005</td>\n",
       "      <td>0.986477</td>\n",
       "      <td>0.570027</td>\n",
       "      <td>449</td>\n",
       "      <td>2023-04-13 00:53:40.636</td>\n",
       "    </tr>\n",
       "    <tr>\n",
       "      <th>1084</th>\n",
       "      <td>2021-04-12 07:00:00+00:00</td>\n",
       "      <td>1003</td>\n",
       "      <td>0.750681</td>\n",
       "      <td>0.794102</td>\n",
       "      <td>449</td>\n",
       "      <td>2023-04-13 00:53:40.636</td>\n",
       "    </tr>\n",
       "    <tr>\n",
       "      <th>1145</th>\n",
       "      <td>2023-03-31 12:00:00+00:00</td>\n",
       "      <td>1002</td>\n",
       "      <td>0.121907</td>\n",
       "      <td>0.815285</td>\n",
       "      <td>449</td>\n",
       "      <td>2023-04-13 00:53:40.636</td>\n",
       "    </tr>\n",
       "  </tbody>\n",
       "</table>\n",
       "</div>"
      ],
      "text/plain": [
       "               event_timestamp  driver_id  conv_rate  acc_rate  \\\n",
       "85   2023-04-01 11:00:00+00:00       1005   0.986477  0.570027   \n",
       "1084 2021-04-12 07:00:00+00:00       1003   0.750681  0.794102   \n",
       "1145 2023-03-31 12:00:00+00:00       1002   0.121907  0.815285   \n",
       "\n",
       "      avg_daily_trips                 created  \n",
       "85                449 2023-04-13 00:53:40.636  \n",
       "1084              449 2023-04-13 00:53:40.636  \n",
       "1145              449 2023-04-13 00:53:40.636  "
      ]
     },
     "execution_count": 8,
     "metadata": {},
     "output_type": "execute_result"
    }
   ],
   "source": [
    "df[df[\"avg_daily_trips\"] == 449]"
   ]
  },
  {
   "cell_type": "markdown",
   "id": "21963aad",
   "metadata": {},
   "source": [
    "## Step3: Get historical features for batch scoring"
   ]
  },
  {
   "cell_type": "code",
   "execution_count": 9,
   "id": "da156436",
   "metadata": {},
   "outputs": [
    {
     "data": {
      "text/html": [
       "<div>\n",
       "<style scoped>\n",
       "    .dataframe tbody tr th:only-of-type {\n",
       "        vertical-align: middle;\n",
       "    }\n",
       "\n",
       "    .dataframe tbody tr th {\n",
       "        vertical-align: top;\n",
       "    }\n",
       "\n",
       "    .dataframe thead th {\n",
       "        text-align: right;\n",
       "    }\n",
       "</style>\n",
       "<table border=\"1\" class=\"dataframe\">\n",
       "  <thead>\n",
       "    <tr style=\"text-align: right;\">\n",
       "      <th></th>\n",
       "      <th>driver_id</th>\n",
       "      <th>event_timestamp</th>\n",
       "      <th>label_driver_reported_satisfaction</th>\n",
       "      <th>val_to_add</th>\n",
       "      <th>val_to_add_2</th>\n",
       "      <th>conv_rate</th>\n",
       "      <th>acc_rate</th>\n",
       "      <th>avg_daily_trips</th>\n",
       "      <th>conv_rate_plus_val1</th>\n",
       "      <th>conv_rate_plus_val2</th>\n",
       "    </tr>\n",
       "  </thead>\n",
       "  <tbody>\n",
       "    <tr>\n",
       "      <th>0</th>\n",
       "      <td>1003</td>\n",
       "      <td>2023-05-12 04:39:20.884191+00:00</td>\n",
       "      <td>3</td>\n",
       "      <td>3</td>\n",
       "      <td>30</td>\n",
       "      <td>0.438662</td>\n",
       "      <td>0.882909</td>\n",
       "      <td>66</td>\n",
       "      <td>3.438662</td>\n",
       "      <td>30.438662</td>\n",
       "    </tr>\n",
       "    <tr>\n",
       "      <th>1</th>\n",
       "      <td>1002</td>\n",
       "      <td>2023-05-12 04:39:20.884191+00:00</td>\n",
       "      <td>5</td>\n",
       "      <td>2</td>\n",
       "      <td>20</td>\n",
       "      <td>0.271404</td>\n",
       "      <td>0.273073</td>\n",
       "      <td>381</td>\n",
       "      <td>2.271404</td>\n",
       "      <td>20.271404</td>\n",
       "    </tr>\n",
       "    <tr>\n",
       "      <th>2</th>\n",
       "      <td>1001</td>\n",
       "      <td>2023-05-12 04:39:20.884191+00:00</td>\n",
       "      <td>1</td>\n",
       "      <td>1</td>\n",
       "      <td>10</td>\n",
       "      <td>1.000000</td>\n",
       "      <td>1.000000</td>\n",
       "      <td>1000</td>\n",
       "      <td>2.000000</td>\n",
       "      <td>11.000000</td>\n",
       "    </tr>\n",
       "  </tbody>\n",
       "</table>\n",
       "</div>"
      ],
      "text/plain": [
       "   driver_id                  event_timestamp  \\\n",
       "0       1003 2023-05-12 04:39:20.884191+00:00   \n",
       "1       1002 2023-05-12 04:39:20.884191+00:00   \n",
       "2       1001 2023-05-12 04:39:20.884191+00:00   \n",
       "\n",
       "   label_driver_reported_satisfaction  val_to_add  val_to_add_2  conv_rate  \\\n",
       "0                                   3           3            30   0.438662   \n",
       "1                                   5           2            20   0.271404   \n",
       "2                                   1           1            10   1.000000   \n",
       "\n",
       "   acc_rate  avg_daily_trips  conv_rate_plus_val1  conv_rate_plus_val2  \n",
       "0  0.882909               66             3.438662            30.438662  \n",
       "1  0.273073              381             2.271404            20.271404  \n",
       "2  1.000000             1000             2.000000            11.000000  "
      ]
     },
     "execution_count": 9,
     "metadata": {},
     "output_type": "execute_result"
    }
   ],
   "source": [
    "# Note: see https://docs.feast.dev/getting-started/concepts/feature-retrieval for more details on how to retrieve\n",
    "# for all entities in the offline store instead\n",
    "entity_df = pd.DataFrame.from_dict(\n",
    "    {\n",
    "        # entity's join key -> entity values\n",
    "        \"driver_id\": [1001, 1002, 1003],\n",
    "        # \"event_timestamp\" (reserved key) -> timestamps\n",
    "        \"event_timestamp\": pd.to_datetime(\"now\", utc=True),\n",
    "        # (optional) label name -> label values. Feast does not process these\n",
    "        \"label_driver_reported_satisfaction\": [1, 5, 3],\n",
    "        # values we're using for an on-demand transformation\n",
    "        \"val_to_add\": [1, 2, 3],\n",
    "        \"val_to_add_2\": [10, 20, 30],\n",
    "    }\n",
    ")\n",
    "\n",
    "training_df = store.get_historical_features(\n",
    "    entity_df=entity_df,\n",
    "    features=[\n",
    "        \"driver_hourly_stats:conv_rate\",\n",
    "        \"driver_hourly_stats:acc_rate\",\n",
    "        \"driver_hourly_stats:avg_daily_trips\",\n",
    "        \"transformed_conv_rate:conv_rate_plus_val1\",\n",
    "        \"transformed_conv_rate:conv_rate_plus_val2\",\n",
    "    ],\n",
    ").to_df()\n",
    "training_df"
   ]
  },
  {
   "cell_type": "markdown",
   "id": "2b808f9e",
   "metadata": {},
   "source": [
    "## Step4: Load features into online store"
   ]
  },
  {
   "cell_type": "code",
   "execution_count": 10,
   "id": "93202183",
   "metadata": {},
   "outputs": [
    {
     "name": "stdout",
     "output_type": "stream",
     "text": [
      "Materializing \u001b[1m\u001b[32m2\u001b[0m feature views to \u001b[1m\u001b[32m2023-05-12 11:39:21+07:00\u001b[0m into the \u001b[1m\u001b[32msqlite\u001b[0m online store.\n",
      "\n",
      "\u001b[1m\u001b[32mdriver_hourly_stats_fresh\u001b[0m from \u001b[1m\u001b[32m2023-05-12 18:30:37+07:00\u001b[0m to \u001b[1m\u001b[32m2023-05-12 11:39:21+07:00\u001b[0m:\n"
     ]
    },
    {
     "name": "stderr",
     "output_type": "stream",
     "text": [
      "100%|████████████████████████████████████████████████████████████████| 1/1 [00:00<00:00, 101.05it/s]\n"
     ]
    },
    {
     "name": "stdout",
     "output_type": "stream",
     "text": [
      "\u001b[1m\u001b[32mdriver_hourly_stats\u001b[0m from \u001b[1m\u001b[32m2023-05-12 18:30:37+07:00\u001b[0m to \u001b[1m\u001b[32m2023-05-12 18:39:21+07:00\u001b[0m:\n"
     ]
    },
    {
     "name": "stderr",
     "output_type": "stream",
     "text": [
      "100%|█████████████████████████████████████████████████████████████████| 1/1 [00:00<00:00, 87.22it/s]\n"
     ]
    }
   ],
   "source": [
    "store.materialize_incremental(end_date=datetime.now())"
   ]
  },
  {
   "cell_type": "markdown",
   "id": "0ad5a44a",
   "metadata": {},
   "source": [
    "## Step5: Online features"
   ]
  },
  {
   "cell_type": "code",
   "execution_count": 11,
   "id": "df7746b5",
   "metadata": {},
   "outputs": [
    {
     "name": "stdout",
     "output_type": "stream",
     "text": [
      "acc_rate  :  [1.0, 0.2730732560157776]\n",
      "conv_rate_plus_val1  :  [1001.0, 1001.2714039981365]\n",
      "conv_rate_plus_val2  :  [2001.0, 2002.2714039981365]\n",
      "driver_id  :  [1001, 1002]\n"
     ]
    }
   ],
   "source": [
    "entity_rows = [\n",
    "    # {join_key: entity_value}\n",
    "    {\n",
    "        \"driver_id\": 1001,\n",
    "        \"val_to_add\": 1000,\n",
    "        \"val_to_add_2\": 2000,\n",
    "    },\n",
    "    {\n",
    "        \"driver_id\": 1002,\n",
    "        \"val_to_add\": 1001,\n",
    "        \"val_to_add_2\": 2002,\n",
    "    },\n",
    "]\n",
    "\n",
    "features_to_fetch = [\n",
    "    \"driver_hourly_stats:acc_rate\",\n",
    "    \"transformed_conv_rate:conv_rate_plus_val1\",\n",
    "    \"transformed_conv_rate:conv_rate_plus_val2\",\n",
    "]\n",
    "returned_features = store.get_online_features(\n",
    "    features=features_to_fetch,\n",
    "    entity_rows=entity_rows,\n",
    ").to_dict()\n",
    "for key, value in sorted(returned_features.items()):\n",
    "    print(key, \" : \", value)"
   ]
  },
  {
   "cell_type": "markdown",
   "id": "79b05de5",
   "metadata": {},
   "source": [
    "## Step6: Online features retrieved (instead) through a feature service"
   ]
  },
  {
   "cell_type": "code",
   "execution_count": 12,
   "id": "5cb56ca3",
   "metadata": {},
   "outputs": [
    {
     "name": "stdout",
     "output_type": "stream",
     "text": [
      "conv_rate  :  [1.0, 0.2714039981365204]\n",
      "conv_rate_plus_val1  :  [1001.0, 1001.2714039981365]\n",
      "conv_rate_plus_val2  :  [2001.0, 2002.2714039981365]\n",
      "driver_id  :  [1001, 1002]\n"
     ]
    }
   ],
   "source": [
    "entity_rows = [\n",
    "    # {join_key: entity_value}\n",
    "    {\n",
    "        \"driver_id\": 1001,\n",
    "        \"val_to_add\": 1000,\n",
    "        \"val_to_add_2\": 2000,\n",
    "    },\n",
    "    {\n",
    "        \"driver_id\": 1002,\n",
    "        \"val_to_add\": 1001,\n",
    "        \"val_to_add_2\": 2002,\n",
    "    },\n",
    "]\n",
    "\n",
    "features_to_fetch = store.get_feature_service(\"driver_activity_v1\")\n",
    "\n",
    "returned_features = store.get_online_features(\n",
    "    features=features_to_fetch,\n",
    "    entity_rows=entity_rows,\n",
    ").to_dict()\n",
    "for key, value in sorted(returned_features.items()):\n",
    "    print(key, \" : \", value)"
   ]
  },
  {
   "cell_type": "markdown",
   "id": "bf91520a",
   "metadata": {},
   "source": [
    "## Step7: Online features retrieved (using feature service v3, which uses a feature view with a push source"
   ]
  },
  {
   "cell_type": "code",
   "execution_count": 13,
   "id": "85a1ae0a",
   "metadata": {},
   "outputs": [
    {
     "name": "stdout",
     "output_type": "stream",
     "text": [
      "acc_rate  :  [1.0, 0.2730732560157776]\n",
      "avg_daily_trips  :  [1000, 381]\n",
      "conv_rate  :  [1.0, 0.2714039981365204]\n",
      "conv_rate_plus_val1  :  [1001.0, 1001.2714039981365]\n",
      "conv_rate_plus_val2  :  [2001.0, 2002.2714039981365]\n",
      "driver_id  :  [1001, 1002]\n"
     ]
    }
   ],
   "source": [
    "entity_rows = [\n",
    "    # {join_key: entity_value}\n",
    "    {\n",
    "        \"driver_id\": 1001,\n",
    "        \"val_to_add\": 1000,\n",
    "        \"val_to_add_2\": 2000,\n",
    "    },\n",
    "    {\n",
    "        \"driver_id\": 1002,\n",
    "        \"val_to_add\": 1001,\n",
    "        \"val_to_add_2\": 2002,\n",
    "    },\n",
    "]\n",
    "\n",
    "features_to_fetch = store.get_feature_service(\"driver_activity_v3\")\n",
    "\n",
    "returned_features = store.get_online_features(\n",
    "    features=features_to_fetch,\n",
    "    entity_rows=entity_rows,\n",
    ").to_dict()\n",
    "for key, value in sorted(returned_features.items()):\n",
    "    print(key, \" : \", value)"
   ]
  },
  {
   "cell_type": "markdown",
   "id": "4a44c549",
   "metadata": {},
   "source": [
    "## Step8: Simulate a stream event ingestion of the hourly stats df"
   ]
  },
  {
   "cell_type": "code",
   "execution_count": 14,
   "id": "f02f0a92",
   "metadata": {},
   "outputs": [
    {
     "name": "stdout",
     "output_type": "stream",
     "text": [
      "   driver_id            event_timestamp                    created  conv_rate  \\\n",
      "0       1001 2023-05-12 11:39:24.513666 2023-05-12 11:39:24.513668        1.0   \n",
      "\n",
      "   acc_rate  avg_daily_trips  \n",
      "0       1.0             1000  \n"
     ]
    }
   ],
   "source": [
    "event_df = pd.DataFrame.from_dict(\n",
    "    {\n",
    "        \"driver_id\": [1001],\n",
    "        \"event_timestamp\": [\n",
    "            datetime.now(),\n",
    "        ],\n",
    "        \"created\": [\n",
    "            datetime.now(),\n",
    "        ],\n",
    "        \"conv_rate\": [1.0],\n",
    "        \"acc_rate\": [1.0],\n",
    "        \"avg_daily_trips\": [1000],\n",
    "    }\n",
    ")\n",
    "print(event_df)\n",
    "store.push(\"driver_stats_push_source\", event_df, to=PushMode.ONLINE_AND_OFFLINE)"
   ]
  },
  {
   "cell_type": "markdown",
   "id": "2fb439be",
   "metadata": {},
   "source": [
    "###  Online features again with updated values from a stream push"
   ]
  },
  {
   "cell_type": "code",
   "execution_count": 15,
   "id": "ca9a3b62",
   "metadata": {},
   "outputs": [
    {
     "name": "stdout",
     "output_type": "stream",
     "text": [
      "acc_rate  :  [1.0, 0.2730732560157776]\n",
      "avg_daily_trips  :  [1000, 381]\n",
      "conv_rate  :  [1.0, 0.2714039981365204]\n",
      "conv_rate_plus_val1  :  [1001.0, 1001.2714039981365]\n",
      "conv_rate_plus_val2  :  [2001.0, 2002.2714039981365]\n",
      "driver_id  :  [1001, 1002]\n"
     ]
    }
   ],
   "source": [
    "entity_rows = [\n",
    "    # {join_key: entity_value}\n",
    "    {\n",
    "        \"driver_id\": 1001,\n",
    "        \"val_to_add\": 1000,\n",
    "        \"val_to_add_2\": 2000,\n",
    "    },\n",
    "    {\n",
    "        \"driver_id\": 1002,\n",
    "        \"val_to_add\": 1001,\n",
    "        \"val_to_add_2\": 2002,\n",
    "    },\n",
    "]\n",
    "\n",
    "features_to_fetch = store.get_feature_service(\"driver_activity_v3\")\n",
    "\n",
    "returned_features = store.get_online_features(\n",
    "    features=features_to_fetch,\n",
    "    entity_rows=entity_rows,\n",
    ").to_dict()\n",
    "for key, value in sorted(returned_features.items()):\n",
    "    print(key, \" : \", value)"
   ]
  },
  {
   "cell_type": "markdown",
   "id": "7222161d",
   "metadata": {},
   "source": [
    "## Step9: Train your model using Offline store"
   ]
  },
  {
   "cell_type": "markdown",
   "id": "1548f5bb",
   "metadata": {},
   "source": [
    "### Get data from Offline store"
   ]
  },
  {
   "cell_type": "code",
   "execution_count": 16,
   "id": "8cd34923",
   "metadata": {},
   "outputs": [
    {
     "name": "stdout",
     "output_type": "stream",
     "text": [
      "----- Feature schema -----\n",
      "\n",
      "<class 'pandas.core.frame.DataFrame'>\n",
      "RangeIndex: 10 entries, 0 to 9\n",
      "Data columns (total 6 columns):\n",
      " #   Column           Non-Null Count  Dtype              \n",
      "---  ------           --------------  -----              \n",
      " 0   driver_id        10 non-null     int64              \n",
      " 1   event_timestamp  10 non-null     datetime64[ns, UTC]\n",
      " 2   trip_completed   10 non-null     int64              \n",
      " 3   conv_rate        10 non-null     float32            \n",
      " 4   acc_rate         10 non-null     float32            \n",
      " 5   avg_daily_trips  10 non-null     int32              \n",
      "dtypes: datetime64[ns, UTC](1), float32(2), int32(1), int64(2)\n",
      "memory usage: 488.0 bytes\n",
      "None\n",
      "\n",
      "----- Example features -----\n",
      "\n",
      "   driver_id           event_timestamp  trip_completed  conv_rate  acc_rate  \\\n",
      "0       1001 2023-04-01 20:29:28+00:00               1   0.112901  0.529678   \n",
      "1       1002 2023-04-02 04:29:28+00:00               0   0.945234  0.826637   \n",
      "2       1003 2023-04-02 12:29:28+00:00               0   0.594608  0.367197   \n",
      "3       1001 2023-04-02 20:29:28+00:00               1   0.751201  0.569272   \n",
      "4       1002 2023-04-03 04:29:28+00:00               0   0.051469  0.737746   \n",
      "\n",
      "   avg_daily_trips  \n",
      "0              986  \n",
      "1              689  \n",
      "2              881  \n",
      "3              311  \n",
      "4              538  \n"
     ]
    }
   ],
   "source": [
    "entity_df = pd.DataFrame.from_dict(\n",
    "    {\n",
    "        # entity's join key -> entity values\n",
    "        \"driver_id\": [1001, 1002, 1003, 1001, 1002, 1003, 1001, 1002, 1003, 1004],\n",
    "        # \"event_timestamp\" (reserved key) -> timestamps\n",
    "        \"event_timestamp\": [\n",
    "            datetime(2023, 4, 1, 20, 29, 28),\n",
    "            datetime(2023, 4, 2, 4, 29, 28),\n",
    "            datetime(2023, 4, 2, 12, 29, 28),\n",
    "            datetime(2023, 4, 2, 20, 29, 28),\n",
    "            datetime(2023, 4, 3, 4, 29, 28),\n",
    "            datetime(2023, 4, 3, 12, 29, 28),\n",
    "            datetime(2023, 4, 3, 20, 29, 28),\n",
    "            datetime(2023, 4, 4, 4, 29, 28),\n",
    "            datetime(2023, 4, 4, 12, 29, 28),\n",
    "            datetime(2023, 4, 4, 20, 29, 28),\n",
    "        ],\n",
    "        # (optional) label name -> label values. Feast does not process these\n",
    "        \"trip_completed\": [1, 0, 0, 1, 0, 0, 1, 0, 0, 1]\n",
    "    }\n",
    ")\n",
    "        \n",
    "# Retrieve training data from BigQuery\n",
    "training_df = store.get_historical_features(\n",
    "    entity_df=entity_df,\n",
    "    features=[\n",
    "        \"driver_hourly_stats:conv_rate\",\n",
    "        \"driver_hourly_stats:acc_rate\",\n",
    "        \"driver_hourly_stats:avg_daily_trips\",\n",
    "    ],\n",
    ").to_df()\n",
    "\n",
    "print(\"----- Feature schema -----\\n\")\n",
    "print(training_df.info())\n",
    "\n",
    "print()\n",
    "print(\"----- Example features -----\\n\")\n",
    "print(training_df.head())\n"
   ]
  },
  {
   "cell_type": "markdown",
   "id": "e34b5239",
   "metadata": {},
   "source": [
    "### Train Linear Regression model"
   ]
  },
  {
   "cell_type": "code",
   "execution_count": 17,
   "id": "492f857c",
   "metadata": {},
   "outputs": [
    {
     "data": {
      "text/plain": [
       "['feature_repo/driver_model.bin']"
      ]
     },
     "execution_count": 17,
     "metadata": {},
     "output_type": "execute_result"
    }
   ],
   "source": [
    "# Train model\n",
    "target = \"trip_completed\"\n",
    "\n",
    "reg = LinearRegression()\n",
    "train_X = training_df[training_df.columns.drop(target).drop(\"event_timestamp\")]\n",
    "train_Y = training_df.loc[:, target]\n",
    "reg.fit(train_X[sorted(train_X)], train_Y)\n",
    "\n",
    "# Save model\n",
    "dump(reg, \"feature_repo/driver_model.bin\")"
   ]
  },
  {
   "cell_type": "markdown",
   "id": "85480951",
   "metadata": {},
   "source": [
    "## Step10: Serving your model using Online store"
   ]
  },
  {
   "cell_type": "code",
   "execution_count": 18,
   "id": "54fb9232",
   "metadata": {},
   "outputs": [],
   "source": [
    "import pandas as pd\n",
    "import feast\n",
    "\n",
    "class DriverRankingModel:\n",
    "    def __init__(self):\n",
    "        # Load model\n",
    "        self.model = load(\"feature_repo/driver_model.bin\")\n",
    "\n",
    "        # Set up feature store\n",
    "        self.store = FeatureStore(repo_path=\"feature_repo/\")\n",
    "\n",
    "    def predict(self, driver_ids):\n",
    "        # Read features from Feast\n",
    "        driver_features = self.store.get_online_features(\n",
    "            entity_rows=[{\"driver_id\": driver_id} for driver_id in driver_ids],\n",
    "            features=[\n",
    "                \"driver_hourly_stats:conv_rate\",\n",
    "                \"driver_hourly_stats:acc_rate\",\n",
    "                \"driver_hourly_stats:avg_daily_trips\",\n",
    "            ],\n",
    "        )\n",
    "        df = pd.DataFrame.from_dict(driver_features.to_dict())\n",
    "\n",
    "        # Make prediction\n",
    "        df[\"prediction\"] = self.model.predict(df[sorted(df)])\n",
    "\n",
    "        # Choose best driver\n",
    "        best_driver_id = df[\"driver_id\"].iloc[df[\"prediction\"].argmax()]\n",
    "\n",
    "        # return best driver\n",
    "        return best_driver_id, df[\"prediction\"]\n",
    "    \n",
    "model = DriverRankingModel()"
   ]
  },
  {
   "cell_type": "code",
   "execution_count": 19,
   "id": "74f1cf57",
   "metadata": {},
   "outputs": [
    {
     "name": "stdout",
     "output_type": "stream",
     "text": [
      "Prediction for best driver id: 1002\n",
      "Score:\n",
      "Driver 1002: 0.4540042116577183\n",
      "Driver 1003: 0.07213536439167001\n",
      "Driver 1004: 0.1078804121036967\n",
      "Driver 1005: -0.1617511067313444\n"
     ]
    }
   ],
   "source": [
    "drivers = [1002, 1003, 1004, 1005]\n",
    "    \n",
    "best_driver, scores = model.predict(drivers)\n",
    "print(f\"Prediction for best driver id: {best_driver}\")\n",
    "print(\"Score:\")\n",
    "for i, dri in enumerate(drivers):\n",
    "    print(f\"Driver {dri}: {scores[i]}\", )"
   ]
  },
  {
   "cell_type": "code",
   "execution_count": null,
   "id": "2ac17b5d",
   "metadata": {},
   "outputs": [],
   "source": []
  },
  {
   "cell_type": "code",
   "execution_count": null,
   "id": "e9f37566",
   "metadata": {},
   "outputs": [],
   "source": []
  },
  {
   "cell_type": "code",
   "execution_count": null,
   "id": "c7132ba4",
   "metadata": {},
   "outputs": [],
   "source": []
  },
  {
   "cell_type": "code",
   "execution_count": null,
   "id": "f463a76d",
   "metadata": {},
   "outputs": [],
   "source": []
  },
  {
   "cell_type": "code",
   "execution_count": null,
   "id": "ecf7a980",
   "metadata": {},
   "outputs": [],
   "source": []
  }
 ],
 "metadata": {
  "kernelspec": {
   "display_name": "Python 3 (ipykernel)",
   "language": "python",
   "name": "python3"
  },
  "language_info": {
   "codemirror_mode": {
    "name": "ipython",
    "version": 3
   },
   "file_extension": ".py",
   "mimetype": "text/x-python",
   "name": "python",
   "nbconvert_exporter": "python",
   "pygments_lexer": "ipython3",
   "version": "3.9.12"
  }
 },
 "nbformat": 4,
 "nbformat_minor": 5
}
